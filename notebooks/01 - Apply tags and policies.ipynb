{
 "cells": [
  {
   "cell_type": "code",
   "execution_count": 0,
   "metadata": {
    "application/vnd.databricks.v1+cell": {
     "cellMetadata": {
      "byteLimit": 2048000,
      "rowLimit": 10000
     },
     "inputWidgets": {},
     "nuid": "a384f074-6738-4154-a48f-7317a979dc50",
     "showTitle": false,
     "tableResultSettingsMap": {},
     "title": ""
    }
   },
   "outputs": [],
   "source": [
    "%python\n",
    "dbutils.widgets.text(\"catalog\", \"mpelletier\")\n",
    "dbutils.widgets.text(\"database\", \"dbdemos\")\n",
    "dbutils.widgets.text(\"volume\", \"input\")"
   ]
  },
  {
   "cell_type": "code",
   "execution_count": 0,
   "metadata": {
    "application/vnd.databricks.v1+cell": {
     "cellMetadata": {
      "byteLimit": 2048000,
      "rowLimit": 10000
     },
     "inputWidgets": {},
     "nuid": "f4aed1cf-2258-4aa6-b5ae-8172bb0e7269",
     "showTitle": false,
     "tableResultSettingsMap": {},
     "title": ""
    }
   },
   "outputs": [],
   "source": [
    "%python\n",
    "## CHANGE THESE VARIABLES AS NEEDED\n",
    "\n",
    "catalog = dbutils.widgets.get(\"catalog\")\n",
    "database = dbutils.widgets.get(\"database\")\n",
    "volume = dbutils.widgets.get(\"volume\")\n",
    "\n",
    "print(f\"{catalog}.{database}\")"
   ]
  },
  {
   "cell_type": "markdown",
   "metadata": {
    "application/vnd.databricks.v1+cell": {
     "cellMetadata": {},
     "inputWidgets": {},
     "nuid": "95a9c96b-d082-42fd-b4c2-1e4b324f7224",
     "showTitle": false,
     "tableResultSettingsMap": {},
     "title": ""
    }
   },
   "source": [
    "## Create and apply tags (Optional)\n",
    "\n",
    "If you have enabled data classification, you can skip this step and go to **Create policies (ABAC)**"
   ]
  },
  {
   "cell_type": "code",
   "execution_count": 0,
   "metadata": {
    "application/vnd.databricks.v1+cell": {
     "cellMetadata": {},
     "inputWidgets": {},
     "nuid": "61fddc95-612a-4ad6-9319-a4bc5ff499ba",
     "showTitle": false,
     "tableResultSettingsMap": {},
     "title": ""
    }
   },
   "outputs": [],
   "source": [
    "SET TAG ON COLUMN ${catalog}.${database}.students.name `class.name`;\n",
    "SET TAG ON COLUMN ${catalog}.${database}.students.username `class.name`;\n",
    "SET TAG ON COLUMN ${catalog}.${database}.students.address `class.location`;\n",
    "SET TAG ON COLUMN ${catalog}.${database}.students.phone_number `class.phone_number`;\n",
    "SET TAG ON COLUMN ${catalog}.${database}.students.email `class.email_address`;"
   ]
  },
  {
   "cell_type": "code",
   "execution_count": 0,
   "metadata": {
    "application/vnd.databricks.v1+cell": {
     "cellMetadata": {},
     "inputWidgets": {},
     "nuid": "a5c6445b-5a37-4e45-93f6-fa30426986cc",
     "showTitle": false,
     "tableResultSettingsMap": {},
     "title": ""
    }
   },
   "outputs": [],
   "source": []
  },
  {
   "cell_type": "markdown",
   "metadata": {
    "application/vnd.databricks.v1+cell": {
     "cellMetadata": {},
     "inputWidgets": {},
     "nuid": "60b5149a-454b-4216-b7f3-012fa800b215",
     "showTitle": false,
     "tableResultSettingsMap": {},
     "title": ""
    }
   },
   "source": [
    "## Explore existing tags\n",
    "\n",
    "Use the these tables found under system.information_schema\n",
    "- catalog_tags\n",
    "- table_tags\n",
    "- column_tags"
   ]
  },
  {
   "cell_type": "code",
   "execution_count": 0,
   "metadata": {
    "application/vnd.databricks.v1+cell": {
     "cellMetadata": {
      "byteLimit": 2048000,
      "rowLimit": 10000
     },
     "inputWidgets": {},
     "nuid": "666cc77c-3e0e-457e-96d5-8449c83657b6",
     "showTitle": false,
     "tableResultSettingsMap": {},
     "title": ""
    }
   },
   "outputs": [],
   "source": [
    "SELECT DISTINCT(tag_name) FROM system.information_schema.table_tags\n",
    "ORDER BY tag_name\n",
    "LIMIT 10"
   ]
  },
  {
   "cell_type": "markdown",
   "metadata": {
    "application/vnd.databricks.v1+cell": {
     "cellMetadata": {},
     "inputWidgets": {},
     "nuid": "f6cabc63-ff64-4a34-8a18-0298ef282926",
     "showTitle": false,
     "tableResultSettingsMap": {},
     "title": ""
    }
   },
   "source": [
    "### Multiple tags\n",
    "\n",
    "`ALTER TABLE catalog.schema.table SET TAGS ('key1' = 'value1', 'key2' = 'value2');\n",
    "`"
   ]
  },
  {
   "cell_type": "code",
   "execution_count": 0,
   "metadata": {
    "application/vnd.databricks.v1+cell": {
     "cellMetadata": {
      "byteLimit": 2048000,
      "rowLimit": 10000
     },
     "inputWidgets": {},
     "nuid": "f0958418-2913-4eff-9683-676ef1451f05",
     "showTitle": false,
     "tableResultSettingsMap": {},
     "title": ""
    }
   },
   "outputs": [],
   "source": [
    "SET TAG ON TABLE ${catalog}.${database}.students pii = yes;"
   ]
  },
  {
   "cell_type": "markdown",
   "metadata": {
    "application/vnd.databricks.v1+cell": {
     "cellMetadata": {},
     "inputWidgets": {},
     "nuid": "417a490c-b19a-4564-be7b-ccc37a5511b5",
     "showTitle": false,
     "tableResultSettingsMap": {},
     "title": ""
    }
   },
   "source": [
    "## Create functions"
   ]
  },
  {
   "cell_type": "code",
   "execution_count": 0,
   "metadata": {
    "application/vnd.databricks.v1+cell": {
     "cellMetadata": {},
     "inputWidgets": {},
     "nuid": "ea986e90-4dd4-454d-abe5-691d349e3bea",
     "showTitle": false,
     "tableResultSettingsMap": {},
     "title": ""
    }
   },
   "outputs": [],
   "source": [
    "-- Masks any SSN input by returning a fully masked value\n",
    "CREATE FUNCTION mask_SSN(ssn STRING)\n",
    "RETURN '***-**-****' ;\n",
    "\n"
   ]
  },
  {
   "cell_type": "markdown",
   "metadata": {
    "application/vnd.databricks.v1+cell": {
     "cellMetadata": {},
     "inputWidgets": {},
     "nuid": "be35da70-44d9-4716-9924-25204f2c18b1",
     "showTitle": false,
     "tableResultSettingsMap": {},
     "title": ""
    }
   },
   "source": [
    "## Create policies (ABAC)"
   ]
  },
  {
   "cell_type": "code",
   "execution_count": 0,
   "metadata": {
    "application/vnd.databricks.v1+cell": {
     "cellMetadata": {
      "byteLimit": 2048000,
      "rowLimit": 10000
     },
     "inputWidgets": {},
     "nuid": "51e8faff-037d-4a28-b6c3-925d34d33dac",
     "showTitle": false,
     "tableResultSettingsMap": {},
     "title": ""
    }
   },
   "outputs": [],
   "source": [
    "CREATE OR REPLACE FUNCTION mpelletier.dbdemos.contains_pii()\n",
    "RETURNS BOOLEAN\n",
    "RETURN FALSE;"
   ]
  },
  {
   "cell_type": "code",
   "execution_count": 0,
   "metadata": {
    "application/vnd.databricks.v1+cell": {
     "cellMetadata": {
      "byteLimit": 2048000,
      "rowLimit": 10000
     },
     "inputWidgets": {},
     "nuid": "7c1f74af-b4cf-46c0-b6a4-8ebc138a80c3",
     "showTitle": false,
     "tableResultSettingsMap": {},
     "title": ""
    }
   },
   "outputs": [],
   "source": [
    "DROP POLICY hide_pii_rows ON ${catalog}.${database}.students"
   ]
  },
  {
   "cell_type": "code",
   "execution_count": 0,
   "metadata": {
    "application/vnd.databricks.v1+cell": {
     "cellMetadata": {
      "byteLimit": 2048000,
      "rowLimit": 10000
     },
     "inputWidgets": {},
     "nuid": "6ff9b67c-798c-4faf-8278-3c99f1f7fb62",
     "showTitle": false,
     "tableResultSettingsMap": {},
     "title": ""
    }
   },
   "outputs": [],
   "source": [
    "CREATE POLICY hide_pii_rows\n",
    "ON TABLE ${catalog}.${database}.students\n",
    "COMMENT 'Hide rows with European customers from sensitive tables'\n",
    "ROW FILTER mpelletier.dbdemos.contains_pii\n",
    "TO `0b8f5441-81fe-485b-b38f-64b98a665675`\n",
    "FOR TABLES\n",
    "WHEN\n",
    "  hasTag('pii')\n",
    "\n",
    "\n"
   ]
  },
  {
   "cell_type": "code",
   "execution_count": 0,
   "metadata": {
    "application/vnd.databricks.v1+cell": {
     "cellMetadata": {
      "byteLimit": 2048000,
      "rowLimit": 10000
     },
     "inputWidgets": {},
     "nuid": "527b0253-c294-4cf0-9ca9-a6b51f5cbe61",
     "showTitle": false,
     "tableResultSettingsMap": {},
     "title": ""
    }
   },
   "outputs": [],
   "source": [
    "CREATE POLICY mask_information\n",
    "ON TABLE ${catalog}.${database}.students\n",
    "COMMENT 'Mask social security numbers'\n",
    "COLUMN MASK mask_SSN\n",
    "TO `0b8f5441-81fe-485b-b38f-64b98a665675`\n",
    "EXCEPT ask_group\n",
    "FOR TABLES\n",
    "MATCH COLUMNS\n",
    "  hasTag('class.location') as ssn\n",
    "ON COLUMN ssn;\n",
    "\n"
   ]
  },
  {
   "cell_type": "code",
   "execution_count": 0,
   "metadata": {
    "application/vnd.databricks.v1+cell": {
     "cellMetadata": {
      "byteLimit": 2048000,
      "rowLimit": 10000
     },
     "inputWidgets": {},
     "nuid": "b12daefb-4db0-4f95-9661-d47d47e8a385",
     "showTitle": false,
     "tableResultSettingsMap": {},
     "title": ""
    }
   },
   "outputs": [],
   "source": [
    "SELECt mask_SSN('123-45-6789')"
   ]
  },
  {
   "cell_type": "code",
   "execution_count": 0,
   "metadata": {
    "application/vnd.databricks.v1+cell": {
     "cellMetadata": {
      "byteLimit": 2048000,
      "rowLimit": 10000
     },
     "inputWidgets": {},
     "nuid": "92687a51-00b7-4763-a983-016ee8b81f51",
     "showTitle": false,
     "tableResultSettingsMap": {},
     "title": ""
    }
   },
   "outputs": [],
   "source": [
    "SHOW POLICIES ON SCHEMA mpelletier.dbdemos;"
   ]
  },
  {
   "cell_type": "code",
   "execution_count": 0,
   "metadata": {
    "application/vnd.databricks.v1+cell": {
     "cellMetadata": {},
     "inputWidgets": {},
     "nuid": "3eb4e686-c54b-4bcf-ac28-fbdb7b2df2bd",
     "showTitle": false,
     "tableResultSettingsMap": {},
     "title": ""
    }
   },
   "outputs": [],
   "source": []
  },
  {
   "cell_type": "code",
   "execution_count": 0,
   "metadata": {
    "application/vnd.databricks.v1+cell": {
     "cellMetadata": {
      "byteLimit": 2048000,
      "rowLimit": 10000
     },
     "inputWidgets": {},
     "nuid": "b3e4009a-4e60-41dd-84c7-ab5b4d1cd116",
     "showTitle": false,
     "tableResultSettingsMap": {},
     "title": ""
    }
   },
   "outputs": [],
   "source": [
    "SET POLICY filter_by_state \n",
    "ON CATALOG sales_prod\n",
    "ROW FILTER state_lookup_filter\n",
    "TO all_analysts EXCEPT analyst_managers\n",
    "FOR TABLES\n",
    "WHEN COLUMNS col_has_tag_value('pii','state')CREATE POLICY <policy_name>\n",
    "ON <securable_type> <securable_name>\n",
    "COMMENT '<policy_description>'\n",
    "-- One of the following:\n",
    "  ROW FILTER <udf_name>\n",
    "  | COLUMN MASK <udf_name> ON COLUMN <target_column>\n",
    "TO <principal_name>[, <principal_name>, ...]\n",
    "[EXCEPT <principal_name>[, <principal_name>, ...]]\n",
    "FOR TABLES\n",
    "[WHEN has_tag('<key>') OR has_tag_value('<key>', '<value>')]\n",
    "MATCH COLUMNS has_tag('<key>') OR has_tag_value('<key>', '<value>') AS <alias>\n",
    "USING COLUMNS <alias>[, <alias>, ...];\n",
    "\n"
   ]
  },
  {
   "cell_type": "code",
   "execution_count": 0,
   "metadata": {
    "application/vnd.databricks.v1+cell": {
     "cellMetadata": {
      "byteLimit": 2048000,
      "rowLimit": 10000
     },
     "inputWidgets": {},
     "nuid": "803d564c-c953-450c-b28f-4726de89264d",
     "showTitle": false,
     "tableResultSettingsMap": {},
     "title": ""
    }
   },
   "outputs": [],
   "source": [
    "DROP POLICY <policy_name> ON <securable_type> <securable_name>\n",
    "\n"
   ]
  },
  {
   "cell_type": "code",
   "execution_count": 0,
   "metadata": {
    "application/vnd.databricks.v1+cell": {
     "cellMetadata": {
      "byteLimit": 2048000,
      "rowLimit": 10000
     },
     "inputWidgets": {},
     "nuid": "b255c037-8e82-4a57-a629-3bb2af3037e9",
     "showTitle": false,
     "tableResultSettingsMap": {},
     "title": ""
    }
   },
   "outputs": [],
   "source": [
    "SELECT * FROM mpelletier.dbdemos.students"
   ]
  },
  {
   "cell_type": "markdown",
   "metadata": {
    "application/vnd.databricks.v1+cell": {
     "cellMetadata": {},
     "inputWidgets": {},
     "nuid": "96296102-3ae1-4a32-9698-1fcba9f1e52c",
     "showTitle": false,
     "tableResultSettingsMap": {},
     "title": ""
    }
   },
   "source": [
    "## Test\n",
    "\n",
    "with SP\n",
    "with Duck DB\n"
   ]
  },
  {
   "cell_type": "code",
   "execution_count": 0,
   "metadata": {
    "application/vnd.databricks.v1+cell": {
     "cellMetadata": {
      "byteLimit": 2048000,
      "rowLimit": 10000
     },
     "inputWidgets": {},
     "nuid": "bcfd7f78-010f-4722-bb9d-4c51a8a1591a",
     "showTitle": false,
     "tableResultSettingsMap": {},
     "title": ""
    }
   },
   "outputs": [],
   "source": [
    "%python\n",
    "# Use the Databricks CLI to create a secret scope\n",
    "!databricks secrets create-scope --scope abac-demo-scope"
   ]
  },
  {
   "cell_type": "code",
   "execution_count": 0,
   "metadata": {
    "application/vnd.databricks.v1+cell": {
     "cellMetadata": {
      "byteLimit": 2048000,
      "rowLimit": 10000
     },
     "inputWidgets": {},
     "nuid": "23847d59-1ade-4fc2-84e2-3d6d50536158",
     "showTitle": false,
     "tableResultSettingsMap": {},
     "title": ""
    }
   },
   "outputs": [],
   "source": [
    "%python\n",
    "import subprocess\n",
    "\n",
    "# Copy secret from CLI\n",
    "subprocess.run([\"databricks\", \"secrets\", \"create-scope\", \"--scope\", \"abac-demo-scope\"])"
   ]
  },
  {
   "cell_type": "code",
   "execution_count": 0,
   "metadata": {
    "application/vnd.databricks.v1+cell": {
     "cellMetadata": {
      "byteLimit": 2048000,
      "rowLimit": 10000
     },
     "inputWidgets": {},
     "nuid": "9c6d1c10-9cdc-4961-aea4-c99238e288c8",
     "showTitle": false,
     "tableResultSettingsMap": {},
     "title": ""
    }
   },
   "outputs": [],
   "source": [
    "%python\n",
    "dbutils.secrets.get(scope=\"abac-demo-scope\", key=\"databricks-token\")\n",
    "       "
   ]
  },
  {
   "cell_type": "code",
   "execution_count": 0,
   "metadata": {
    "application/vnd.databricks.v1+cell": {
     "cellMetadata": {
      "byteLimit": 2048000,
      "rowLimit": 10000
     },
     "inputWidgets": {},
     "nuid": "75fc6a98-58ef-4809-b662-d9be7d7d7b03",
     "showTitle": false,
     "tableResultSettingsMap": {},
     "title": ""
    }
   },
   "outputs": [],
   "source": [
    "%python\n",
    "import getpass\n",
    "\n",
    "password = getpass.getpass(\"Enter your password: \")\n",
    "print(\"Password received.\")\n"
   ]
  },
  {
   "cell_type": "code",
   "execution_count": 0,
   "metadata": {
    "application/vnd.databricks.v1+cell": {
     "cellMetadata": {
      "byteLimit": 2048000,
      "rowLimit": 10000
     },
     "inputWidgets": {},
     "nuid": "cd19263e-cb31-49ef-9ee4-5c4d3624a3a4",
     "showTitle": false,
     "tableResultSettingsMap": {},
     "title": ""
    }
   },
   "outputs": [],
   "source": [
    "%python\n",
    "import time\n",
    "\n",
    "from databricks.sdk import WorkspaceClient, AccountClient\n",
    "from databricks.sdk.service import iam\n",
    "\n",
    "w = WorkspaceClient()\n",
    "a = AccountClient()\n",
    "\n",
    "spn = w.service_principals.create(\n",
    "    display_name=f\"sdk-{time.time_ns()}\",\n",
    "    groups=[],\n",
    ")\n",
    "\n",
    "spn"
   ]
  },
  {
   "cell_type": "code",
   "execution_count": 0,
   "metadata": {
    "application/vnd.databricks.v1+cell": {
     "cellMetadata": {
      "byteLimit": 2048000,
      "rowLimit": 10000
     },
     "inputWidgets": {},
     "nuid": "644c1be9-60cd-4f25-b318-503d674fdf5e",
     "showTitle": false,
     "tableResultSettingsMap": {},
     "title": ""
    }
   },
   "outputs": [],
   "source": [
    "GRANT SELECT ON SCHEMA mpelletier.dbdemos TO `0b8f5441-81fe-485b-b38f-64b98a665675`;\n",
    "GRANT USAGE ON SCHEMA mpelletier.dbdemos TO `0b8f5441-81fe-485b-b38f-64b98a665675`;"
   ]
  },
  {
   "cell_type": "code",
   "execution_count": 0,
   "metadata": {
    "application/vnd.databricks.v1+cell": {
     "cellMetadata": {
      "byteLimit": 2048000,
      "rowLimit": 10000
     },
     "inputWidgets": {},
     "nuid": "a884ca1b-78e4-4969-987a-3b3f7ec2d1d2",
     "showTitle": false,
     "tableResultSettingsMap": {},
     "title": ""
    }
   },
   "outputs": [],
   "source": [
    "%python\n",
    "w.service_principals.delete(id=spn.id)"
   ]
  },
  {
   "cell_type": "code",
   "execution_count": 0,
   "metadata": {
    "application/vnd.databricks.v1+cell": {
     "cellMetadata": {
      "byteLimit": 2048000,
      "rowLimit": 10000
     },
     "inputWidgets": {},
     "nuid": "3240a223-b71a-4ef3-a26d-5532a858f1ce",
     "showTitle": false,
     "tableResultSettingsMap": {},
     "title": ""
    }
   },
   "outputs": [],
   "source": [
    "%python\n",
    "import pandas as pd\n",
    "from databricks.sdk import WorkspaceClient\n",
    "\n",
    "# Replace these with your actual service principal details\n",
    "client_id = \"0b8f5441-81fe-485b-b38f-64b98a665675\"\n",
    "client_secret = \"dose21d839166e956ad2980ee48a2c999277\"\n",
    "tenant_id = \"9f37a392-f0ae-4280-9796-f1864a10effc\"\n",
    "workspace_url = \"https://adb-984752964297111.11.azuredatabricks.net/\"\n",
    "\n",
    "# Initialize the WorkspaceClient with service principal authentication\n",
    "w = WorkspaceClient(\n",
    "    host=workspace_url,\n",
    "    client_id=client_id,\n",
    "    client_secret=client_secret\n",
    ")\n",
    "\n",
    "# Define the query to execute\n",
    "query = \"SELECT * FROM mpelletier.dbdemos.students LIMIT 10\"\n",
    "\n",
    "# Execute the query using execute_statement\n",
    "statement_response = w.statement_execution.execute_statement(query, '148ccb90800933a1')\n",
    "#print(statement_response)\n",
    "\n",
    "if statement_response.result:\n",
    "    # Extract the data array from the statement response\n",
    "    data_array = statement_response.result.data_array or []\n",
    "\n",
    "    if data_array:\n",
    "        # Convert the data array to a pandas DataFrame\n",
    "        df = pd.DataFrame(data_array)\n",
    "\n",
    "        # Display the DataFrame\n",
    "        display(df)\n",
    "    else:\n",
    "        print(\"Query returned an empty dataset.\")"
   ]
  },
  {
   "cell_type": "markdown",
   "metadata": {
    "application/vnd.databricks.v1+cell": {
     "cellMetadata": {},
     "inputWidgets": {},
     "nuid": "e6b1e4cf-2805-4dfe-b582-e4479445632a",
     "showTitle": false,
     "tableResultSettingsMap": {},
     "title": ""
    }
   },
   "source": [
    "## Clean-up resources"
   ]
  },
  {
   "cell_type": "code",
   "execution_count": 0,
   "metadata": {
    "application/vnd.databricks.v1+cell": {
     "cellMetadata": {},
     "inputWidgets": {},
     "nuid": "ce449328-6919-437e-bee5-b3afb2f62ec8",
     "showTitle": false,
     "tableResultSettingsMap": {},
     "title": ""
    }
   },
   "outputs": [],
   "source": [
    "DELETE TAG\n",
    "DELETE POLICIES\n",
    "DELETE SPs\n",
    "UNSET TAG\n",
    "DROP TABLE\n",
    "DROP SCHEMA\n"
   ]
  }
 ],
 "metadata": {
  "application/vnd.databricks.v1+notebook": {
   "computePreferences": null,
   "dashboards": [],
   "environmentMetadata": {
    "base_environment": "",
    "environment_version": "2"
   },
   "inputWidgetPreferences": null,
   "language": "sql",
   "notebookMetadata": {
    "pythonIndentUnit": 2
   },
   "notebookName": "01 - Apply tags and policies",
   "widgets": {
    "catalog": {
     "currentValue": "mpelletier",
     "nuid": "100c6baf-4ce3-4796-a9ff-2cba1a6cc3c7",
     "typedWidgetInfo": {
      "autoCreated": false,
      "defaultValue": "mpelletier",
      "label": null,
      "name": "catalog",
      "options": {
       "widgetDisplayType": "Text",
       "validationRegex": null
      },
      "parameterDataType": "String"
     },
     "widgetInfo": {
      "widgetType": "text",
      "defaultValue": "mpelletier",
      "label": null,
      "name": "catalog",
      "options": {
       "widgetType": "text",
       "autoCreated": null,
       "validationRegex": null
      }
     }
    },
    "database": {
     "currentValue": "dbdemos",
     "nuid": "2ec233a5-56ee-46b2-adb5-456f757573b9",
     "typedWidgetInfo": {
      "autoCreated": false,
      "defaultValue": "dbdemos",
      "label": null,
      "name": "database",
      "options": {
       "widgetDisplayType": "Text",
       "validationRegex": null
      },
      "parameterDataType": "String"
     },
     "widgetInfo": {
      "widgetType": "text",
      "defaultValue": "dbdemos",
      "label": null,
      "name": "database",
      "options": {
       "widgetType": "text",
       "autoCreated": null,
       "validationRegex": null
      }
     }
    },
    "secret_input": {
     "currentValue": "",
     "nuid": "80f1d184-6a64-4214-acbb-a22339660446",
     "typedWidgetInfo": {
      "autoCreated": false,
      "defaultValue": "",
      "label": null,
      "name": "secret_input",
      "options": {
       "widgetDisplayType": "Text",
       "validationRegex": null
      },
      "parameterDataType": "String"
     },
     "widgetInfo": {
      "widgetType": "text",
      "defaultValue": "",
      "label": null,
      "name": "secret_input",
      "options": {
       "widgetType": "text",
       "autoCreated": null,
       "validationRegex": null
      }
     }
    },
    "volume": {
     "currentValue": "input",
     "nuid": "4a8f50dc-09f8-4f5b-99e5-b886f50c0747",
     "typedWidgetInfo": {
      "autoCreated": false,
      "defaultValue": "input",
      "label": null,
      "name": "volume",
      "options": {
       "widgetDisplayType": "Text",
       "validationRegex": null
      },
      "parameterDataType": "String"
     },
     "widgetInfo": {
      "widgetType": "text",
      "defaultValue": "input",
      "label": null,
      "name": "volume",
      "options": {
       "widgetType": "text",
       "autoCreated": null,
       "validationRegex": null
      }
     }
    }
   }
  },
  "language_info": {
   "name": "sql"
  }
 },
 "nbformat": 4,
 "nbformat_minor": 0
}
