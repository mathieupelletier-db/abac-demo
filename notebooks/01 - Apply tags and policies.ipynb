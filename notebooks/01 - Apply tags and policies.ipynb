{
 "cells": [
  {
   "cell_type": "code",
   "execution_count": 0,
   "metadata": {
    "application/vnd.databricks.v1+cell": {
     "cellMetadata": {
      "byteLimit": 2048000,
      "rowLimit": 10000
     },
     "inputWidgets": {},
     "nuid": "a384f074-6738-4154-a48f-7317a979dc50",
     "showTitle": false,
     "tableResultSettingsMap": {},
     "title": ""
    }
   },
   "outputs": [],
   "source": [
    "%python\n",
    "dbutils.widgets.text(\"catalog\", \"mpelletier\")\n",
    "dbutils.widgets.text(\"database\", \"dbdemos\")\n",
    "dbutils.widgets.text(\"warehouse_id\", \"1234\")\n",
    "dbutils.widgets.text(\"client_id\", \"1234\")"
   ]
  },
  {
   "cell_type": "code",
   "execution_count": 0,
   "metadata": {
    "application/vnd.databricks.v1+cell": {
     "cellMetadata": {
      "byteLimit": 2048000,
      "rowLimit": 10000
     },
     "inputWidgets": {},
     "nuid": "f4aed1cf-2258-4aa6-b5ae-8172bb0e7269",
     "showTitle": false,
     "tableResultSettingsMap": {},
     "title": ""
    }
   },
   "outputs": [],
   "source": [
    "%python\n",
    "## CHANGE THESE VARIABLES AS NEEDED\n",
    "\n",
    "catalog = dbutils.widgets.get(\"catalog\")\n",
    "database = dbutils.widgets.get(\"database\")\n",
    "warehouse_id = dbutils.widgets.get(\"warehouse_id\")\n",
    "client_id = dbutils.widgets.get(\"client_id\")\n",
    "\n",
    "print(f\"{catalog}.{database}\")"
   ]
  },
  {
   "cell_type": "markdown",
   "metadata": {
    "application/vnd.databricks.v1+cell": {
     "cellMetadata": {},
     "inputWidgets": {},
     "nuid": "95a9c96b-d082-42fd-b4c2-1e4b324f7224",
     "showTitle": false,
     "tableResultSettingsMap": {},
     "title": ""
    }
   },
   "source": [
    "## Create and apply tags (Optional)\n",
    "\n",
    "If you have enabled data classification, you can skip this step and go to **Create policies (ABAC)**"
   ]
  },
  {
   "cell_type": "code",
   "execution_count": 0,
   "metadata": {
    "application/vnd.databricks.v1+cell": {
     "cellMetadata": {
      "byteLimit": 2048000,
      "rowLimit": 10000
     },
     "inputWidgets": {},
     "nuid": "61fddc95-612a-4ad6-9319-a4bc5ff499ba",
     "showTitle": false,
     "tableResultSettingsMap": {},
     "title": ""
    }
   },
   "outputs": [],
   "source": [
    "SET TAG ON COLUMN ${catalog}.${database}.students.name `class.name`;\n",
    "SET TAG ON COLUMN ${catalog}.${database}.students.username `class.name`;\n",
    "SET TAG ON COLUMN ${catalog}.${database}.students.address `class.location`;\n",
    "SET TAG ON COLUMN ${catalog}.${database}.students.phone_number `class.phone_number`;\n",
    "SET TAG ON COLUMN ${catalog}.${database}.students.email `class.email_address`;"
   ]
  },
  {
   "cell_type": "markdown",
   "metadata": {
    "application/vnd.databricks.v1+cell": {
     "cellMetadata": {},
     "inputWidgets": {},
     "nuid": "60b5149a-454b-4216-b7f3-012fa800b215",
     "showTitle": false,
     "tableResultSettingsMap": {},
     "title": ""
    }
   },
   "source": [
    "## Explore existing tags\n",
    "\n",
    "Use the these tables found under system.information_schema\n",
    "- catalog_tags\n",
    "- table_tags\n",
    "- column_tags"
   ]
  },
  {
   "cell_type": "code",
   "execution_count": 0,
   "metadata": {
    "application/vnd.databricks.v1+cell": {
     "cellMetadata": {
      "byteLimit": 2048000,
      "rowLimit": 10000
     },
     "inputWidgets": {},
     "nuid": "666cc77c-3e0e-457e-96d5-8449c83657b6",
     "showTitle": false,
     "tableResultSettingsMap": {},
     "title": ""
    }
   },
   "outputs": [],
   "source": [
    "SELECT DISTINCT(tag_name) FROM system.information_schema.table_tags\n",
    "ORDER BY tag_name\n",
    "LIMIT 10"
   ]
  },
  {
   "cell_type": "markdown",
   "metadata": {
    "application/vnd.databricks.v1+cell": {
     "cellMetadata": {},
     "inputWidgets": {},
     "nuid": "f6cabc63-ff64-4a34-8a18-0298ef282926",
     "showTitle": false,
     "tableResultSettingsMap": {},
     "title": ""
    }
   },
   "source": [
    "### Assign multiple tags\n",
    "\n",
    "`ALTER TABLE catalog.schema.table SET TAGS ('key1' = 'value1', 'key2' = 'value2');\n",
    "`"
   ]
  },
  {
   "cell_type": "markdown",
   "metadata": {
    "application/vnd.databricks.v1+cell": {
     "cellMetadata": {},
     "inputWidgets": {},
     "nuid": "417a490c-b19a-4564-be7b-ccc37a5511b5",
     "showTitle": false,
     "tableResultSettingsMap": {},
     "title": ""
    }
   },
   "source": [
    "## Create masking functions"
   ]
  },
  {
   "cell_type": "code",
   "execution_count": 0,
   "metadata": {
    "application/vnd.databricks.v1+cell": {
     "cellMetadata": {
      "byteLimit": 2048000,
      "rowLimit": 10000
     },
     "inputWidgets": {},
     "nuid": "ea986e90-4dd4-454d-abe5-691d349e3bea",
     "showTitle": false,
     "tableResultSettingsMap": {},
     "title": ""
    }
   },
   "outputs": [],
   "source": [
    "-- Masks any input by returning a fully masked value\n",
    "CREATE FUNCTION ${catalog}.${database}.mask_phone(value STRING)\n",
    "RETURN '***-**-****' ;\n"
   ]
  },
  {
   "cell_type": "code",
   "execution_count": 0,
   "metadata": {
    "application/vnd.databricks.v1+cell": {
     "cellMetadata": {
      "byteLimit": 2048000,
      "rowLimit": 10000
     },
     "inputWidgets": {},
     "nuid": "51e8faff-037d-4a28-b6c3-925d34d33dac",
     "showTitle": false,
     "tableResultSettingsMap": {},
     "title": ""
    }
   },
   "outputs": [],
   "source": [
    "-- hide rows from pubsec employees..\n",
    "CREATE OR REPLACE FUNCTION ${catalog}.${database}.pubsec_email(email STRING)\n",
    "RETURNS BOOLEAN\n",
    "RETURN NOT LOWER(email) like '%.gov'"
   ]
  },
  {
   "cell_type": "code",
   "execution_count": 0,
   "metadata": {
    "application/vnd.databricks.v1+cell": {
     "cellMetadata": {
      "byteLimit": 2048000,
      "rowLimit": 10000
     },
     "inputWidgets": {},
     "nuid": "f911cae7-8098-4d57-b4a2-3503df3c5268",
     "showTitle": false,
     "tableResultSettingsMap": {},
     "title": ""
    }
   },
   "outputs": [],
   "source": [
    "SELECT ${catalog}.${database}.pubsec_email('roger@pubsec.gov')"
   ]
  },
  {
   "cell_type": "code",
   "execution_count": 0,
   "metadata": {
    "application/vnd.databricks.v1+cell": {
     "cellMetadata": {
      "byteLimit": 2048000,
      "rowLimit": 10000
     },
     "inputWidgets": {},
     "nuid": "b12daefb-4db0-4f95-9661-d47d47e8a385",
     "showTitle": false,
     "tableResultSettingsMap": {},
     "title": ""
    }
   },
   "outputs": [],
   "source": [
    "SELECT ${catalog}.${database}.mask_phone('123-45-6789')"
   ]
  },
  {
   "cell_type": "markdown",
   "metadata": {
    "application/vnd.databricks.v1+cell": {
     "cellMetadata": {},
     "inputWidgets": {},
     "nuid": "be35da70-44d9-4716-9924-25204f2c18b1",
     "showTitle": false,
     "tableResultSettingsMap": {},
     "title": ""
    }
   },
   "source": [
    "## Create policies"
   ]
  },
  {
   "cell_type": "markdown",
   "metadata": {
    "application/vnd.databricks.v1+cell": {
     "cellMetadata": {},
     "inputWidgets": {},
     "nuid": "c57a5173-7e94-47b2-82f7-6c58b5127d6b",
     "showTitle": false,
     "tableResultSettingsMap": {},
     "title": ""
    }
   },
   "source": [
    "### Create a SP for testing ABAC rules"
   ]
  },
  {
   "cell_type": "code",
   "execution_count": 0,
   "metadata": {
    "application/vnd.databricks.v1+cell": {
     "cellMetadata": {
      "byteLimit": 2048000,
      "rowLimit": 10000
     },
     "inputWidgets": {},
     "nuid": "cd19263e-cb31-49ef-9ee4-5c4d3624a3a4",
     "showTitle": false,
     "tableResultSettingsMap": {},
     "title": ""
    }
   },
   "outputs": [],
   "source": [
    "%python\n",
    "import time\n",
    "\n",
    "from databricks.sdk import WorkspaceClient, AccountClient\n",
    "from databricks.sdk.service import iam\n",
    "\n",
    "w = WorkspaceClient()\n",
    "a = AccountClient()\n",
    "\n",
    "spn = w.service_principals.create(\n",
    "    display_name=f\"sp-abac-demo-{catalog}\",\n",
    "    groups=[],\n",
    ")\n",
    "\n",
    "spn"
   ]
  },
  {
   "cell_type": "code",
   "execution_count": 0,
   "metadata": {
    "application/vnd.databricks.v1+cell": {
     "cellMetadata": {
      "byteLimit": 2048000,
      "rowLimit": 10000
     },
     "inputWidgets": {},
     "nuid": "911a81f9-f139-4db0-8645-2d10d53c9f67",
     "showTitle": false,
     "tableResultSettingsMap": {},
     "title": ""
    }
   },
   "outputs": [],
   "source": [
    "%python\n",
    "spn_id = spn.application_id\n",
    "spn_id"
   ]
  },
  {
   "cell_type": "markdown",
   "metadata": {
    "application/vnd.databricks.v1+cell": {
     "cellMetadata": {},
     "inputWidgets": {},
     "nuid": "d6144444-d8be-4bec-ac5c-c0cad6c870a6",
     "showTitle": false,
     "tableResultSettingsMap": {},
     "title": ""
    }
   },
   "source": [
    "### Copy/paste SP id in widget"
   ]
  },
  {
   "cell_type": "code",
   "execution_count": 0,
   "metadata": {
    "application/vnd.databricks.v1+cell": {
     "cellMetadata": {
      "byteLimit": 2048000,
      "rowLimit": 10000
     },
     "inputWidgets": {},
     "nuid": "b5c3e222-9613-48b1-9c6c-11f7a6d1ef29",
     "showTitle": false,
     "tableResultSettingsMap": {},
     "title": ""
    }
   },
   "outputs": [],
   "source": [
    "SELECT :spn_id"
   ]
  },
  {
   "cell_type": "code",
   "execution_count": 0,
   "metadata": {
    "application/vnd.databricks.v1+cell": {
     "cellMetadata": {
      "byteLimit": 2048000,
      "rowLimit": 10000
     },
     "inputWidgets": {},
     "nuid": "644c1be9-60cd-4f25-b318-503d674fdf5e",
     "showTitle": false,
     "tableResultSettingsMap": {},
     "title": ""
    }
   },
   "outputs": [],
   "source": [
    "GRANT SELECT ON SCHEMA ${catalog}.${database} TO `${spn_id}`;\n",
    "GRANT USAGE ON SCHEMA ${catalog}.${database} TO `${spn_id}`;"
   ]
  },
  {
   "cell_type": "code",
   "execution_count": 0,
   "metadata": {
    "application/vnd.databricks.v1+cell": {
     "cellMetadata": {
      "byteLimit": 2048000,
      "rowLimit": 10000
     },
     "inputWidgets": {},
     "nuid": "6ff9b67c-798c-4faf-8278-3c99f1f7fb62",
     "showTitle": false,
     "tableResultSettingsMap": {},
     "title": ""
    }
   },
   "outputs": [],
   "source": [
    "CREATE POLICY hide_pii_rows\n",
    "ON TABLE ${catalog}.${database}.students\n",
    "COMMENT 'Hide rows from pubsec employees'\n",
    "ROW FILTER ${catalog}.${database}.pubsec_email\n",
    "TO `${spn_id}`\n",
    "FOR TABLES\n",
    "MATCH COLUMNS\n",
    "  hasTag('class.email_address') AS email_address\n",
    "USING COLUMNS (email_address);\n"
   ]
  },
  {
   "cell_type": "code",
   "execution_count": 0,
   "metadata": {
    "application/vnd.databricks.v1+cell": {
     "cellMetadata": {
      "byteLimit": 2048000,
      "rowLimit": 10000
     },
     "inputWidgets": {},
     "nuid": "527b0253-c294-4cf0-9ca9-a6b51f5cbe61",
     "showTitle": false,
     "tableResultSettingsMap": {},
     "title": ""
    }
   },
   "outputs": [],
   "source": [
    "CREATE POLICY mask_information\n",
    "ON TABLE ${catalog}.${database}.students\n",
    "COMMENT 'Mask phone numbers'\n",
    "COLUMN MASK ${catalog}.${database}.mask_phone\n",
    "TO `${spn_id}`\n",
    "FOR TABLES\n",
    "MATCH COLUMNS\n",
    "  hasTag('class.phone_number') as phone_number\n",
    "ON COLUMN phone_number;\n",
    "\n"
   ]
  },
  {
   "cell_type": "code",
   "execution_count": 0,
   "metadata": {
    "application/vnd.databricks.v1+cell": {
     "cellMetadata": {
      "byteLimit": 2048000,
      "rowLimit": 10000
     },
     "inputWidgets": {},
     "nuid": "92687a51-00b7-4763-a983-016ee8b81f51",
     "showTitle": false,
     "tableResultSettingsMap": {},
     "title": ""
    }
   },
   "outputs": [],
   "source": [
    "SHOW POLICIES ON SCHEMA ${catalog}.${database};"
   ]
  },
  {
   "cell_type": "markdown",
   "metadata": {
    "application/vnd.databricks.v1+cell": {
     "cellMetadata": {},
     "inputWidgets": {},
     "nuid": "b4991c6b-5c5b-46e9-a5d5-e45b07f88cbc",
     "showTitle": false,
     "tableResultSettingsMap": {},
     "title": ""
    }
   },
   "source": [
    "### Select data using current user\n",
    "No column or row filters will be applied"
   ]
  },
  {
   "cell_type": "code",
   "execution_count": 0,
   "metadata": {
    "application/vnd.databricks.v1+cell": {
     "cellMetadata": {
      "byteLimit": 2048000,
      "rowLimit": 10000
     },
     "inputWidgets": {},
     "nuid": "b255c037-8e82-4a57-a629-3bb2af3037e9",
     "showTitle": false,
     "tableResultSettingsMap": {
      "0": {
       "dataGridStateBlob": null,
       "filterBlob": "{\"version\":1,\"filterGroups\":[{\"enabled\":true,\"filterGroupId\":\"fg_82f7b9fa\",\"op\":\"OR\",\"filters\":[{\"filterId\":\"f_ec81f050\",\"enabled\":true,\"columnId\":\"email\",\"dataType\":\"string\",\"filterType\":\"contains\",\"filterValue\":\"gov\",\"filterConfig\":{}}],\"local\":false,\"updatedAt\":1752857558762}],\"syncTimestamp\":1752857558762}",
       "queryPlanFiltersBlob": "[{\"kind\":\"call\",\"function\":\"or\",\"args\":[{\"kind\":\"call\",\"function\":\"ilike\",\"args\":[{\"kind\":\"identifier\",\"identifier\":\"email\"},{\"kind\":\"literal\",\"value\":\"%gov%\",\"type\":\"string\"}]}]}]",
       "tableResultIndex": 0
      }
     },
     "title": ""
    }
   },
   "outputs": [],
   "source": [
    "SELECT * FROM ${catalog}.${database}.students"
   ]
  },
  {
   "cell_type": "markdown",
   "metadata": {
    "application/vnd.databricks.v1+cell": {
     "cellMetadata": {},
     "inputWidgets": {},
     "nuid": "96296102-3ae1-4a32-9698-1fcba9f1e52c",
     "showTitle": false,
     "tableResultSettingsMap": {},
     "title": ""
    }
   },
   "source": [
    "## Test\n",
    "\n",
    "- with Service Principal\n",
    "- with JDBC\n"
   ]
  },
  {
   "cell_type": "markdown",
   "metadata": {
    "application/vnd.databricks.v1+cell": {
     "cellMetadata": {},
     "inputWidgets": {},
     "nuid": "c55a2862-bed9-4c97-959f-5f5bfd51cf32",
     "showTitle": false,
     "tableResultSettingsMap": {},
     "title": ""
    }
   },
   "source": [
    "### Create client secret for service principal\n",
    "\n",
    "You will need to create client secret for the service principal\n",
    "- Settings -> Identity and access -> Service principals -> Secrets\n",
    "- Copy/paste the client id in the widget\n",
    "- Copy/paste the client secret when prompted for the value\n",
    "\n",
    "<img src=\"../data/sp_secrets.png\" width=\"800\" />"
   ]
  },
  {
   "cell_type": "code",
   "execution_count": 0,
   "metadata": {
    "application/vnd.databricks.v1+cell": {
     "cellMetadata": {
      "byteLimit": 2048000,
      "rowLimit": 10000
     },
     "inputWidgets": {},
     "nuid": "01a62b62-881a-4204-8533-32735157e0c2",
     "showTitle": false,
     "tableResultSettingsMap": {},
     "title": ""
    }
   },
   "outputs": [],
   "source": [
    "%python\n",
    "client_id = dbutils.widgets.get(\"client_id\")\n",
    "client_id"
   ]
  },
  {
   "cell_type": "code",
   "execution_count": 0,
   "metadata": {
    "application/vnd.databricks.v1+cell": {
     "cellMetadata": {
      "byteLimit": 2048000,
      "rowLimit": 10000
     },
     "inputWidgets": {},
     "nuid": "75fc6a98-58ef-4809-b662-d9be7d7d7b03",
     "showTitle": false,
     "tableResultSettingsMap": {},
     "title": ""
    }
   },
   "outputs": [],
   "source": [
    "%python\n",
    "import getpass\n",
    "\n",
    "client_secret = getpass.getpass(\"Enter service principal oauth secret: \")\n",
    "print(\"Secret received.\")\n"
   ]
  },
  {
   "cell_type": "code",
   "execution_count": 0,
   "metadata": {
    "application/vnd.databricks.v1+cell": {
     "cellMetadata": {
      "byteLimit": 2048000,
      "rowLimit": 10000
     },
     "inputWidgets": {},
     "nuid": "3240a223-b71a-4ef3-a26d-5532a858f1ce",
     "showTitle": false,
     "tableResultSettingsMap": {
      "0": {
       "dataGridStateBlob": "{\"version\":1,\"tableState\":{\"columnPinning\":{\"left\":[\"#row_number#\"],\"right\":[]},\"columnSizing\":{},\"columnVisibility\":{}},\"settings\":{\"columns\":{}},\"syncTimestamp\":1752857530850}",
       "filterBlob": "{\"version\":1,\"filterGroups\":[{\"enabled\":false,\"filterGroupId\":\"fg_f8555e5e\",\"op\":\"OR\",\"filters\":[{\"filterId\":\"f_b14c2e80\",\"enabled\":true,\"columnId\":\"1\",\"dataType\":\"string\",\"filterType\":\"contains\",\"filterValue\":\"gov\",\"filterConfig\":{}}],\"local\":false,\"updatedAt\":1752857573623}],\"syncTimestamp\":1752857573623}",
       "queryPlanFiltersBlob": "[]",
       "tableResultIndex": 0
      }
     },
     "title": ""
    }
   },
   "outputs": [],
   "source": [
    "%python\n",
    "import pandas as pd\n",
    "from databricks.sdk import WorkspaceClient\n",
    "\n",
    "# Replace these with your actual service principal details\n",
    "workspace_url = dbutils.notebook.entry_point.getDbutils().notebook().getContext().apiUrl().get()\n",
    "\n",
    "# Initialize the WorkspaceClient with service principal authentication\n",
    "w = WorkspaceClient(\n",
    "    host=workspace_url,\n",
    "    client_id=client_id,\n",
    "    client_secret=client_secret\n",
    ")\n",
    "\n",
    "# Define the query to execute\n",
    "query = f\"SELECT * FROM {catalog}.{database}.students\"\n",
    "\n",
    "# Execute the query using execute_statement\n",
    "# Warehouse ID\n",
    "statement_response = w.statement_execution.execute_statement(query, warehouse_id)\n",
    "#print(statement_response)\n",
    "\n",
    "if statement_response.result:\n",
    "    # Extract the data array from the statement response\n",
    "    data_array = statement_response.result.data_array or []\n",
    "\n",
    "    if data_array:\n",
    "        # Convert the data array to a pandas DataFrame\n",
    "        df = pd.DataFrame(data_array)\n",
    "\n",
    "        # Display the DataFrame\n",
    "        display(df)\n",
    "    else:\n",
    "        print(\"Query returned an empty dataset.\")"
   ]
  },
  {
   "cell_type": "markdown",
   "metadata": {
    "application/vnd.databricks.v1+cell": {
     "cellMetadata": {},
     "inputWidgets": {},
     "nuid": "e6b1e4cf-2805-4dfe-b582-e4479445632a",
     "showTitle": false,
     "tableResultSettingsMap": {},
     "title": ""
    }
   },
   "source": [
    "## Clean-up resources"
   ]
  },
  {
   "cell_type": "code",
   "execution_count": 0,
   "metadata": {
    "application/vnd.databricks.v1+cell": {
     "cellMetadata": {
      "byteLimit": 2048000,
      "rowLimit": 10000
     },
     "inputWidgets": {},
     "nuid": "b4fb48c2-712f-4e3d-a243-cb00aacb1194",
     "showTitle": false,
     "tableResultSettingsMap": {},
     "title": ""
    }
   },
   "outputs": [],
   "source": [
    "%python\n",
    "user_input = input(\"Do you want to delete resources created in this lab (yes/no)?: \")\n",
    "if user_input == 'no':\n",
    "  raise Exception(\"OK\")"
   ]
  },
  {
   "cell_type": "code",
   "execution_count": 0,
   "metadata": {
    "application/vnd.databricks.v1+cell": {
     "cellMetadata": {
      "byteLimit": 2048000,
      "rowLimit": 10000
     },
     "inputWidgets": {},
     "nuid": "a884ca1b-78e4-4969-987a-3b3f7ec2d1d2",
     "showTitle": false,
     "tableResultSettingsMap": {},
     "title": ""
    }
   },
   "outputs": [],
   "source": [
    "%python\n",
    "w.service_principals.delete(id=spn.id)"
   ]
  },
  {
   "cell_type": "code",
   "execution_count": 0,
   "metadata": {
    "application/vnd.databricks.v1+cell": {
     "cellMetadata": {},
     "inputWidgets": {},
     "nuid": "ce449328-6919-437e-bee5-b3afb2f62ec8",
     "showTitle": false,
     "tableResultSettingsMap": {},
     "title": ""
    }
   },
   "outputs": [],
   "source": [
    "--DELETE FUNCTION\n",
    "DROP FUNCTION ${catalog}.${database}.mask_phone;\n",
    "DROP FUNCTION ${catalog}.${database}.pubsec_email;\n",
    "DROP POLICY hide_pii_rows ON ${catalog}.${database}.students;\n",
    "--UNSET TAG\n",
    "DROP TABLE ${catalog}.${database}.students;\n",
    "DROP SCHEMA ${catalog}.${database};\n"
   ]
  }
 ],
 "metadata": {
  "application/vnd.databricks.v1+notebook": {
   "computePreferences": null,
   "dashboards": [],
   "environmentMetadata": {
    "base_environment": "",
    "environment_version": "2"
   },
   "inputWidgetPreferences": null,
   "language": "sql",
   "notebookMetadata": {
    "pythonIndentUnit": 2
   },
   "notebookName": "01 - Apply tags and policies",
   "widgets": {
    "catalog": {
     "currentValue": "mpelletier",
     "nuid": "100c6baf-4ce3-4796-a9ff-2cba1a6cc3c7",
     "typedWidgetInfo": {
      "autoCreated": false,
      "defaultValue": "mpelletier",
      "label": null,
      "name": "catalog",
      "options": {
       "widgetDisplayType": "Text",
       "validationRegex": null
      },
      "parameterDataType": "String"
     },
     "widgetInfo": {
      "widgetType": "text",
      "defaultValue": "mpelletier",
      "label": null,
      "name": "catalog",
      "options": {
       "widgetType": "text",
       "autoCreated": null,
       "validationRegex": null
      }
     }
    },
    "client_id": {
     "currentValue": "ed5af956-7973-4681-99b8-25d62e01c794",
     "nuid": "02b6d47f-9007-405e-9317-669740371253",
     "typedWidgetInfo": {
      "autoCreated": false,
      "defaultValue": "1234",
      "label": null,
      "name": "client_id",
      "options": {
       "widgetDisplayType": "Text",
       "validationRegex": null
      },
      "parameterDataType": "String"
     },
     "widgetInfo": {
      "widgetType": "text",
      "defaultValue": "1234",
      "label": null,
      "name": "client_id",
      "options": {
       "widgetType": "text",
       "autoCreated": null,
       "validationRegex": null
      }
     }
    },
    "database": {
     "currentValue": "dbdemos",
     "nuid": "2ec233a5-56ee-46b2-adb5-456f757573b9",
     "typedWidgetInfo": {
      "autoCreated": false,
      "defaultValue": "dbdemos",
      "label": null,
      "name": "database",
      "options": {
       "widgetDisplayType": "Text",
       "validationRegex": null
      },
      "parameterDataType": "String"
     },
     "widgetInfo": {
      "widgetType": "text",
      "defaultValue": "dbdemos",
      "label": null,
      "name": "database",
      "options": {
       "widgetType": "text",
       "autoCreated": null,
       "validationRegex": null
      }
     }
    },
    "spn_id": {
     "currentValue": "ed5af956-7973-4681-99b8-25d62e01c794",
     "nuid": "054a29fc-a8fd-4ed3-9197-6649366b7e2b",
     "typedWidgetInfo": {
      "autoCreated": true,
      "defaultValue": "",
      "label": null,
      "name": "spn_id",
      "options": {
       "widgetDisplayType": "Text",
       "validationRegex": null
      },
      "parameterDataType": "String"
     },
     "widgetInfo": {
      "widgetType": "text",
      "defaultValue": "",
      "label": null,
      "name": "spn_id",
      "options": {
       "widgetType": "text",
       "autoCreated": true,
       "validationRegex": null
      }
     }
    },
    "warehouse_id": {
     "currentValue": "148ccb90800933a1",
     "nuid": "bf125cf0-5235-4166-bae7-00dc733376db",
     "typedWidgetInfo": {
      "autoCreated": false,
      "defaultValue": "1234",
      "label": null,
      "name": "warehouse_id",
      "options": {
       "widgetDisplayType": "Text",
       "validationRegex": null
      },
      "parameterDataType": "String"
     },
     "widgetInfo": {
      "widgetType": "text",
      "defaultValue": "1234",
      "label": null,
      "name": "warehouse_id",
      "options": {
       "widgetType": "text",
       "autoCreated": null,
       "validationRegex": null
      }
     }
    }
   }
  },
  "language_info": {
   "name": "sql"
  }
 },
 "nbformat": 4,
 "nbformat_minor": 0
}
