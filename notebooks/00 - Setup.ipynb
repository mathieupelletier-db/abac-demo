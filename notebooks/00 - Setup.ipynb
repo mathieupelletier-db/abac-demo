{
 "cells": [
  {
   "cell_type": "markdown",
   "metadata": {
    "application/vnd.databricks.v1+cell": {
     "cellMetadata": {},
     "inputWidgets": {},
     "nuid": "cab12526-bec4-40dc-9c30-fb4fd2c737dd",
     "showTitle": false,
     "tableResultSettingsMap": {},
     "title": ""
    }
   },
   "source": [
    "\n",
    "__Author:__ Mathieu Pelletier <mathieu.pelletier@databricks.com> | _Last Modified:_ 14 JUL 2025"
   ]
  },
  {
   "cell_type": "markdown",
   "metadata": {
    "application/vnd.databricks.v1+cell": {
     "cellMetadata": {},
     "inputWidgets": {},
     "nuid": "f8484e1f-3c0a-4403-8cd4-ce3759b6cd6e",
     "showTitle": false,
     "tableResultSettingsMap": {},
     "title": ""
    }
   },
   "source": [
    "## Pre-requisites\n",
    "\n",
    "To enable the ABAC beta, do the following:\n",
    "\n",
    "- As a workspace admin, click your username in the top bar of the Databricks workspace.\n",
    "- From the menu, select Previews.\n",
    "- Set the Attribute Based Access Control toggle to On.\n"
   ]
  },
  {
   "cell_type": "markdown",
   "metadata": {
    "application/vnd.databricks.v1+cell": {
     "cellMetadata": {},
     "inputWidgets": {},
     "nuid": "d6ab935e-4e76-481a-848b-c39a0f447f40",
     "showTitle": false,
     "tableResultSettingsMap": {},
     "title": ""
    }
   },
   "source": [
    "\n",
    "## Limitations\n",
    "\n",
    "The following limitations apply during the ABAC preview stages:\n",
    "\n",
    "- A user who has MODIFY permissions on a table but does not have ASSIGN tag policy permissions can drop a column that has a governed tag. This alters the table structure and might invalidate the ABAC policy tied to that column.\n",
    "- The ABAC beta is enabled at the workspace level. - Databricks does not enforce ABAC policies on catalogs when they are accessed from workspaces not enabled in the beta.\n",
    "- Users with the required Delta Sharing permissions can Delta share tables secured by ABAC policies regardless of how the policy applies to them. The policy does not govern the recipient’s access.\n",
    "- Views are not supported.\n",
    "- Foreign catalogs are not supported.\n",
    "- Materialized views and streaming tables are not supported.\n",
    "- Only one column mask or row filter can be applied to a given column or row within the object hierarchy. Applying multiple masks or filters might make the table inaccessible.\n",
    "A- BAC is not supported on Databricks on AWS GovCloud or workspaces with FedRAMP moderate compliance controls.\n"
   ]
  },
  {
   "cell_type": "code",
   "execution_count": 0,
   "metadata": {
    "application/vnd.databricks.v1+cell": {
     "cellMetadata": {
      "byteLimit": 2048000,
      "rowLimit": 10000
     },
     "inputWidgets": {},
     "nuid": "57d02c90-650e-41e3-87b7-5871a39d1e70",
     "showTitle": false,
     "tableResultSettingsMap": {},
     "title": ""
    }
   },
   "outputs": [],
   "source": [
    "dbutils.widgets.text(\"catalog\", \"mpelletier\")\n",
    "dbutils.widgets.text(\"database\", \"dbdemos\")\n",
    "dbutils.widgets.text(\"volume\", \"input\")"
   ]
  },
  {
   "cell_type": "code",
   "execution_count": 0,
   "metadata": {
    "application/vnd.databricks.v1+cell": {
     "cellMetadata": {
      "byteLimit": 2048000,
      "rowLimit": 10000
     },
     "inputWidgets": {},
     "nuid": "488bc883-31f9-4b5d-8aa9-8ab0fbfd8499",
     "showTitle": false,
     "tableResultSettingsMap": {},
     "title": ""
    }
   },
   "outputs": [],
   "source": [
    "## CHANGE THESE VARIABLES AS NEEDED\n",
    "\n",
    "catalog = dbutils.widgets.get(\"catalog\")\n",
    "database = dbutils.widgets.get(\"database\")\n",
    "volume = dbutils.widgets.get(\"volume\")\n",
    "\n",
    "print(f\"{catalog}.{database}\")"
   ]
  },
  {
   "cell_type": "code",
   "execution_count": 0,
   "metadata": {
    "application/vnd.databricks.v1+cell": {
     "cellMetadata": {
      "byteLimit": 2048000,
      "rowLimit": 10000
     },
     "inputWidgets": {},
     "nuid": "a5c5f861-0b9e-4430-aef6-ba4115c09225",
     "showTitle": false,
     "tableResultSettingsMap": {},
     "title": ""
    }
   },
   "outputs": [],
   "source": [
    "# Get the current notebook path\n",
    "current_path = dbutils.notebook.entry_point.getDbutils().notebook().getContext().notebookPath().get()\n",
    "\n",
    "# Display the current path\n",
    "display(current_path)"
   ]
  },
  {
   "cell_type": "markdown",
   "metadata": {
    "application/vnd.databricks.v1+cell": {
     "cellMetadata": {},
     "inputWidgets": {},
     "nuid": "55397ccd-10e6-4925-a6e7-1a543c4309c1",
     "showTitle": false,
     "tableResultSettingsMap": {},
     "title": ""
    }
   },
   "source": [
    "## Load dataset that contains PII"
   ]
  },
  {
   "cell_type": "code",
   "execution_count": 0,
   "metadata": {
    "application/vnd.databricks.v1+cell": {
     "cellMetadata": {
      "byteLimit": 2048000,
      "rowLimit": 10000
     },
     "inputWidgets": {},
     "nuid": "6d4777db-1fb4-4b2a-8780-bad251462eb8",
     "showTitle": false,
     "tableResultSettingsMap": {},
     "title": ""
    }
   },
   "outputs": [],
   "source": [
    "file_path = f\"file:/Workspace/{current_path}/../../data/pii_dataset.csv\"\n",
    "\n",
    "df = spark.read.csv(f\"{file_path}\", header=True, inferSchema=True)\n",
    "df.display()\n",
    "df.write.saveAsTable(f\"{catalog}.{database}.students\")\n"
   ]
  },
  {
   "cell_type": "markdown",
   "metadata": {
    "application/vnd.databricks.v1+cell": {
     "cellMetadata": {},
     "inputWidgets": {},
     "nuid": "4150bbb0-d280-498f-8bba-3764364898d2",
     "showTitle": false,
     "tableResultSettingsMap": {},
     "title": ""
    }
   },
   "source": [
    "## Enable data classification (Optional)\n",
    "\n",
    "Data Classification automatically classifies and tags tables in your catalog. Classifications can produce tags that can be used by downstream policies to enforce row-level and column-level security using attribute-based access control (ABAC).\n",
    "\n",
    "<img src=\"../data/data-classification-details-tab.png\" width=\"800\" />\n",
    "\n",
    "\n",
    "Instructions: \n",
    "- this feature can be enabled using the UI\n",
    "- cannot be programmatically enabled for the moment \n",
    "\n",
    "Limitations:\n",
    "- Views are not supported\n",
    "- Delta Sharing catalogs are not supported\n",
    "- Limited number of supported classes, more are coming (custom)\n",
    "\n",
    "Source: https://learn.microsoft.com/en-us/azure/databricks/lakehouse-monitoring/data-classification\n",
    "\n",
    "<img src=\"../data/classes.png\" width=\"800\" />\n",
    "\n"
   ]
  }
 ],
 "metadata": {
  "application/vnd.databricks.v1+notebook": {
   "computePreferences": null,
   "dashboards": [],
   "environmentMetadata": {
    "base_environment": "",
    "environment_version": "2"
   },
   "inputWidgetPreferences": null,
   "language": "python",
   "notebookMetadata": {
    "pythonIndentUnit": 2
   },
   "notebookName": "00 - Setup",
   "widgets": {
    "catalog": {
     "currentValue": "mpelletier",
     "nuid": "c548b3b3-81e5-4372-bff6-791b5baddf8e",
     "typedWidgetInfo": {
      "autoCreated": false,
      "defaultValue": "mpelletier",
      "label": null,
      "name": "catalog",
      "options": {
       "widgetDisplayType": "Text",
       "validationRegex": null
      },
      "parameterDataType": "String"
     },
     "widgetInfo": {
      "widgetType": "text",
      "defaultValue": "mpelletier",
      "label": null,
      "name": "catalog",
      "options": {
       "widgetType": "text",
       "autoCreated": null,
       "validationRegex": null
      }
     }
    },
    "database": {
     "currentValue": "dbdemos",
     "nuid": "d3ceedfa-c95a-4f7c-8d8a-6573a427b2e6",
     "typedWidgetInfo": {
      "autoCreated": false,
      "defaultValue": "dbdemos",
      "label": null,
      "name": "database",
      "options": {
       "widgetDisplayType": "Text",
       "validationRegex": null
      },
      "parameterDataType": "String"
     },
     "widgetInfo": {
      "widgetType": "text",
      "defaultValue": "dbdemos",
      "label": null,
      "name": "database",
      "options": {
       "widgetType": "text",
       "autoCreated": null,
       "validationRegex": null
      }
     }
    },
    "volume": {
     "currentValue": "input",
     "nuid": "3d449cb6-bfd5-4da8-b0fc-168cce0c4564",
     "typedWidgetInfo": {
      "autoCreated": false,
      "defaultValue": "input",
      "label": null,
      "name": "volume",
      "options": {
       "widgetDisplayType": "Text",
       "validationRegex": null
      },
      "parameterDataType": "String"
     },
     "widgetInfo": {
      "widgetType": "text",
      "defaultValue": "input",
      "label": null,
      "name": "volume",
      "options": {
       "widgetType": "text",
       "autoCreated": null,
       "validationRegex": null
      }
     }
    }
   }
  },
  "language_info": {
   "name": "python"
  }
 },
 "nbformat": 4,
 "nbformat_minor": 0
}
